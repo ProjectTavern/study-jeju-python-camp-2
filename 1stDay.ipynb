{
  "nbformat": 4,
  "nbformat_minor": 0,
  "metadata": {
    "colab": {
      "name": "1stDay.ipynb",
      "provenance": [],
      "collapsed_sections": [],
      "authorship_tag": "ABX9TyPeLDOR6yFhgWIhf0di902Z",
      "include_colab_link": true
    },
    "kernelspec": {
      "name": "python3",
      "display_name": "Python 3"
    }
  },
  "cells": [
    {
      "cell_type": "markdown",
      "metadata": {
        "id": "view-in-github",
        "colab_type": "text"
      },
      "source": [
        "<a href=\"https://colab.research.google.com/github/winterguard/PythonStudy/blob/master/1stDay.ipynb\" target=\"_parent\"><img src=\"https://colab.research.google.com/assets/colab-badge.svg\" alt=\"Open In Colab\"/></a>"
      ]
    },
    {
      "cell_type": "code",
      "metadata": {
        "id": "TSp70VWan0Jl",
        "colab_type": "code",
        "colab": {
          "base_uri": "https://localhost:8080/",
          "height": 35
        },
        "outputId": "5c4d2c9a-4193-4327-e47c-74d04a570cf6"
      },
      "source": [
        "x = 3\n",
        "y = 7\n",
        "x + y"
      ],
      "execution_count": 2,
      "outputs": [
        {
          "output_type": "execute_result",
          "data": {
            "text/plain": [
              "10"
            ]
          },
          "metadata": {
            "tags": []
          },
          "execution_count": 2
        }
      ]
    },
    {
      "cell_type": "code",
      "metadata": {
        "id": "LM2Y_EgJt1rm",
        "colab_type": "code",
        "colab": {
          "base_uri": "https://localhost:8080/",
          "height": 91
        },
        "outputId": "e8bc06f3-d1e9-46b6-e494-42f81eb3c679"
      },
      "source": [
        "# 여기에서 a를 변수라고 합니다.\n",
        "# if, print, else 등의 예약어는 변수 이름으로 사용할 수 없습니다.\n",
        "# 숫자로 시작할 수 없습니다.\n",
        "# 특수문자로 시작할 수 없습니다.\n",
        "# 첫문자는 언더바나 소문자로 사용해야 합니다.\n",
        "\n",
        "a = 10        # int - 정수\n",
        "b = 10.1      # float - 실수\n",
        "c = '10'      # str\n",
        "d = 'sherlock'\n",
        "e = 'winter'\n",
        "f = True      # bool\n",
        "g = -1\n",
        "h = 0b110     # bin\n",
        "i = 0o110     # oct\n",
        "j = 0x110     # hex\n",
        "\n",
        "print(type(a))\n",
        "print(dir(a))\n",
        "print(a + b)"
      ],
      "execution_count": 9,
      "outputs": [
        {
          "output_type": "stream",
          "text": [
            "<class 'int'>\n",
            "['__abs__', '__add__', '__and__', '__bool__', '__ceil__', '__class__', '__delattr__', '__dir__', '__divmod__', '__doc__', '__eq__', '__float__', '__floor__', '__floordiv__', '__format__', '__ge__', '__getattribute__', '__getnewargs__', '__gt__', '__hash__', '__index__', '__init__', '__init_subclass__', '__int__', '__invert__', '__le__', '__lshift__', '__lt__', '__mod__', '__mul__', '__ne__', '__neg__', '__new__', '__or__', '__pos__', '__pow__', '__radd__', '__rand__', '__rdivmod__', '__reduce__', '__reduce_ex__', '__repr__', '__rfloordiv__', '__rlshift__', '__rmod__', '__rmul__', '__ror__', '__round__', '__rpow__', '__rrshift__', '__rshift__', '__rsub__', '__rtruediv__', '__rxor__', '__setattr__', '__sizeof__', '__str__', '__sub__', '__subclasshook__', '__truediv__', '__trunc__', '__xor__', 'bit_length', 'conjugate', 'denominator', 'from_bytes', 'imag', 'numerator', 'real', 'to_bytes']\n",
            "20.1\n"
          ],
          "name": "stdout"
        }
      ]
    },
    {
      "cell_type": "code",
      "metadata": {
        "id": "dskMRExEwgP7",
        "colab_type": "code",
        "colab": {
          "base_uri": "https://localhost:8080/",
          "height": 163
        },
        "outputId": "e1db63e5-e935-40de-a0a4-a24b43cc45fb"
      },
      "source": [
        "print(e)\n",
        "print(type(e))\n",
        "print(dir(e))\n",
        "print(e.upper())\n",
        "print(e.find('w'))\n",
        "print(e.find('o'))\n",
        "print(e.index('t'))\n",
        "# print(e.index('p')) !!_ERROR_!!"
      ],
      "execution_count": 12,
      "outputs": [
        {
          "output_type": "stream",
          "text": [
            "winter\n",
            "<class 'str'>\n",
            "['__add__', '__class__', '__contains__', '__delattr__', '__dir__', '__doc__', '__eq__', '__format__', '__ge__', '__getattribute__', '__getitem__', '__getnewargs__', '__gt__', '__hash__', '__init__', '__init_subclass__', '__iter__', '__le__', '__len__', '__lt__', '__mod__', '__mul__', '__ne__', '__new__', '__reduce__', '__reduce_ex__', '__repr__', '__rmod__', '__rmul__', '__setattr__', '__sizeof__', '__str__', '__subclasshook__', 'capitalize', 'casefold', 'center', 'count', 'encode', 'endswith', 'expandtabs', 'find', 'format', 'format_map', 'index', 'isalnum', 'isalpha', 'isdecimal', 'isdigit', 'isidentifier', 'islower', 'isnumeric', 'isprintable', 'isspace', 'istitle', 'isupper', 'join', 'ljust', 'lower', 'lstrip', 'maketrans', 'partition', 'replace', 'rfind', 'rindex', 'rjust', 'rpartition', 'rsplit', 'rstrip', 'split', 'splitlines', 'startswith', 'strip', 'swapcase', 'title', 'translate', 'upper', 'zfill']\n",
            "WINTER\n",
            "0\n",
            "-1\n",
            "3\n"
          ],
          "name": "stdout"
        }
      ]
    },
    {
      "cell_type": "code",
      "metadata": {
        "id": "HlwoxFd6wi6D",
        "colab_type": "code",
        "colab": {
          "base_uri": "https://localhost:8080/",
          "height": 197
        },
        "outputId": "2c7fa8ce-dd23-415f-fd1e-dd59b6715676"
      },
      "source": [
        "news = 'new challenge creator sherlock'\n",
        "print(news[0])\n",
        "print(news[1])\n",
        "print(news[2])\n",
        "print(news[3])\n",
        "print(news[4])\n",
        "print('==================')\n",
        "# news[start:stop:step]\n",
        "print(news[0:3])\n",
        "print(news[:5:2])\n",
        "print(news[news.find('creator'):news.find(' sherlock')])\n",
        "print(news[:4].upper())"
      ],
      "execution_count": 25,
      "outputs": [
        {
          "output_type": "stream",
          "text": [
            "n\n",
            "e\n",
            "w\n",
            " \n",
            "c\n",
            "==================\n",
            "new\n",
            "nwc\n",
            "creator\n",
            "NEW \n"
          ],
          "name": "stdout"
        }
      ]
    },
    {
      "cell_type": "code",
      "metadata": {
        "id": "j0iCWhEcz0CZ",
        "colab_type": "code",
        "colab": {
          "base_uri": "https://localhost:8080/",
          "height": 71
        },
        "outputId": "33cf0a2f-a922-438e-a024-14a3bc5867dc"
      },
      "source": [
        "# 형변환 (in t, str, float, list, set, dict, tuple ...)\n",
        "# Javascript -> Number('10')\n",
        "# Javascript -> parseInt('10', 10)\n",
        "\n",
        "int('10')\n",
        "print('10' + '10')\n",
        "print(int('10') + int('10'))\n",
        "bool('')                          # False\n",
        "bool(' ')                         # True\n",
        "bool(None)                        # False\n",
        "bool(0)                           # False\n",
        "bool(1)                           # False\n",
        "bool(-1)                          # True"
      ],
      "execution_count": 30,
      "outputs": [
        {
          "output_type": "stream",
          "text": [
            "1010\n",
            "20\n"
          ],
          "name": "stdout"
        },
        {
          "output_type": "execute_result",
          "data": {
            "text/plain": [
              "True"
            ]
          },
          "metadata": {
            "tags": []
          },
          "execution_count": 30
        }
      ]
    },
    {
      "cell_type": "code",
      "metadata": {
        "id": "wlzp8_Om0z8w",
        "colab_type": "code",
        "colab": {
          "base_uri": "https://localhost:8080/",
          "height": 143
        },
        "outputId": "089294e9-7e91-4730-d37f-1ddcb5929360"
      },
      "source": [
        "a = 9\n",
        "b = 2\n",
        "print(a + b)\n",
        "print(a - b)\n",
        "print(a * b)\n",
        "print(a / b)\n",
        "print(a // b)\n",
        "print(a ** b)\n",
        "print(a % b)"
      ],
      "execution_count": 33,
      "outputs": [
        {
          "output_type": "stream",
          "text": [
            "11\n",
            "7\n",
            "18\n",
            "4.5\n",
            "4\n",
            "81\n",
            "1\n"
          ],
          "name": "stdout"
        }
      ]
    },
    {
      "cell_type": "code",
      "metadata": {
        "id": "__D96jkp1P7U",
        "colab_type": "code",
        "colab": {
          "base_uri": "https://localhost:8080/",
          "height": 125
        },
        "outputId": "be0b8fa6-3798-4dac-8f0d-f81e433bde66"
      },
      "source": [
        "a = 3\n",
        "b = 5\n",
        "\n",
        "print(a == b)     # Javascript 에서 등호 3개와 같습니다. (a === b)\n",
        "print(a != b)     # Javascript 에서는 true 입니다. 그런데 Python 에서는 False 입니다.\n",
        "print(a > b)\n",
        "print(a >= b)\n",
        "print(a < b)\n",
        "print(a <= b)"
      ],
      "execution_count": 35,
      "outputs": [
        {
          "output_type": "stream",
          "text": [
            "False\n",
            "True\n",
            "False\n",
            "False\n",
            "True\n",
            "True\n"
          ],
          "name": "stdout"
        }
      ]
    },
    {
      "cell_type": "code",
      "metadata": {
        "id": "HfWjn6Gf1qa9",
        "colab_type": "code",
        "colab": {
          "base_uri": "https://localhost:8080/",
          "height": 107
        },
        "outputId": "8eb7c05c-cfbc-43b4-f148-fb95f18e60eb"
      },
      "source": [
        "bool1 = True                  # 1\n",
        "bool2 = False                 # 0\n",
        "\n",
        "print(bool1 and bool2)        # 논리곱\n",
        "print(bool1 or bool2)         # 논리합\n",
        "print(not bool2)              #\n",
        "print(bool1 + bool2)\n",
        "print(bool1 - bool2)"
      ],
      "execution_count": 38,
      "outputs": [
        {
          "output_type": "stream",
          "text": [
            "False\n",
            "True\n",
            "True\n",
            "1\n",
            "1\n"
          ],
          "name": "stdout"
        }
      ]
    },
    {
      "cell_type": "code",
      "metadata": {
        "id": "lDgh9QgD18ik",
        "colab_type": "code",
        "colab": {
          "base_uri": "https://localhost:8080/",
          "height": 35
        },
        "outputId": "ce8cd715-54e4-4d09-9e8d-063cecf64eac"
      },
      "source": [
        "a = 10\n",
        "a += 10\n",
        "print(a)"
      ],
      "execution_count": 39,
      "outputs": [
        {
          "output_type": "stream",
          "text": [
            "20\n"
          ],
          "name": "stdout"
        }
      ]
    },
    {
      "cell_type": "code",
      "metadata": {
        "id": "FdHIRGAX2V02",
        "colab_type": "code",
        "colab": {
          "base_uri": "https://localhost:8080/",
          "height": 35
        },
        "outputId": "629026b1-a6a3-417e-e67b-6c4f5db09988"
      },
      "source": [
        "def circleWidth(r):\n",
        "  return r * r * 3.14\n",
        "\n",
        "def customFunction():\n",
        "  print('Hello, world!')\n",
        "\n",
        "circleWidth(10)"
      ],
      "execution_count": 43,
      "outputs": [
        {
          "output_type": "execute_result",
          "data": {
            "text/plain": [
              "314.0"
            ]
          },
          "metadata": {
            "tags": []
          },
          "execution_count": 43
        }
      ]
    }
  ]
}